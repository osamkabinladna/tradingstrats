{
 "cells": [
  {
   "cell_type": "code",
   "id": "initial_id",
   "metadata": {
    "collapsed": true,
    "ExecuteTime": {
     "end_time": "2024-08-21T03:17:55.581467Z",
     "start_time": "2024-08-21T03:17:54.505955Z"
    }
   },
   "source": [
    "import random\n",
    "import pandas as pd\n",
    "import ydf\n",
    "import wandb"
   ],
   "outputs": [],
   "execution_count": 1
  },
  {
   "metadata": {},
   "cell_type": "markdown",
   "source": [
    "Train a random forest model\n",
    "\n",
    "Current best model num_trees=500 & l2_regularization=0.00"
   ],
   "id": "d899394a41c89ff0"
  },
  {
   "metadata": {
    "ExecuteTime": {
     "end_time": "2024-08-21T03:46:58.469960Z",
     "start_time": "2024-08-21T03:46:41.279355Z"
    }
   },
   "cell_type": "code",
   "source": [
    "wandb.init(\n",
    "    project = \"stonks\",\n",
    "    config = {\n",
    "        \"num_trees\": 100,\n",
    "        \"architecture\": \"GradientBoostedTrees\",\n",
    "    }\n",
    ")\n",
    "\n",
    "# Loop through each set of training and validation data\n",
    "for i in range(13):  # Assuming i ranges from 0 to 12\n",
    "    # Load training and validation data\n",
    "    train_file = f\"covset0/train_{i}.csv\"\n",
    "    valid_file = f\"covset0/valid_{i}.csv\"\n",
    "\n",
    "    train_df = pd.read_csv(train_file)\n",
    "    valid_df = pd.read_csv(valid_file)\n",
    "\n",
    "    # Separate features and labels\n",
    "    X_train = train_df.drop(columns=['DELTA_20_QUINTILES'])  # Replace with actual label column\n",
    "    y_train = train_df['DELTA_20_QUINTILES']\n",
    "\n",
    "    X_valid = valid_df.drop(columns=['DELTA_20_QUINTILES'])  # Replace with actual label column\n",
    "    y_valid = valid_df['DELTA_20_QUINTILES']\n",
    "\n",
    "    # Combine X and y for YDF\n",
    "    train_data = pd.concat([X_train, y_train], axis=1)\n",
    "    valid_data = pd.concat([X_valid, y_valid], axis=1)\n",
    "\n",
    "    # Specify the label column for YDF\n",
    "    label = \"DELTA_20_QUINTILES\"\n",
    "\n",
    "    # Train the Gradient Boosted Trees model\n",
    "    model = ydf.GradientBoostedTreesLearner(task=ydf.Task.CLASSIFICATION, \n",
    "                                    label=label,\n",
    "                                    l2_regularization=0.00,\n",
    "                                    num_trees=500,\n",
    "                                    loss='MULTINOMIAL_LOG_LIKELIHOOD').train(train_data, valid=valid_df)\n",
    "\n",
    "\n",
    "    # Evaluate the model\n",
    "    evaluation = model.evaluate(valid_data)\n",
    "\n",
    "    # Log the results with WandB\n",
    "    wandb.log({\n",
    "        'fold': i,\n",
    "        'accuracy': evaluation.loss,  # Log cross-entropy or other metrics\n",
    "    })\n",
    "\n",
    "    print(f\"Completed training and validation for fold {i}\")\n",
    "\n",
    "# Finalize WandB run\n",
    "wandb.finish()"
   ],
   "id": "4e60231047d2536c",
   "outputs": [
    {
     "data": {
      "text/plain": [
       "<IPython.core.display.HTML object>"
      ],
      "text/html": [
       "Tracking run with wandb version 0.17.7"
      ]
     },
     "metadata": {},
     "output_type": "display_data"
    },
    {
     "data": {
      "text/plain": [
       "<IPython.core.display.HTML object>"
      ],
      "text/html": [
       "Run data is saved locally in <code>/Users/gregruyoga/gmoneycodes/tradingstrats/random_forest/wandb/run-20240821_104641-h2taoaqv</code>"
      ]
     },
     "metadata": {},
     "output_type": "display_data"
    },
    {
     "data": {
      "text/plain": [
       "<IPython.core.display.HTML object>"
      ],
      "text/html": [
       "Syncing run <strong><a href='https://wandb.ai/osamkabinladna-prospera/stonks/runs/h2taoaqv' target=\"_blank\">playful-gorge-22</a></strong> to <a href='https://wandb.ai/osamkabinladna-prospera/stonks' target=\"_blank\">Weights & Biases</a> (<a href='https://wandb.me/run' target=\"_blank\">docs</a>)<br/>"
      ]
     },
     "metadata": {},
     "output_type": "display_data"
    },
    {
     "data": {
      "text/plain": [
       "<IPython.core.display.HTML object>"
      ],
      "text/html": [
       " View project at <a href='https://wandb.ai/osamkabinladna-prospera/stonks' target=\"_blank\">https://wandb.ai/osamkabinladna-prospera/stonks</a>"
      ]
     },
     "metadata": {},
     "output_type": "display_data"
    },
    {
     "data": {
      "text/plain": [
       "<IPython.core.display.HTML object>"
      ],
      "text/html": [
       " View run at <a href='https://wandb.ai/osamkabinladna-prospera/stonks/runs/h2taoaqv' target=\"_blank\">https://wandb.ai/osamkabinladna-prospera/stonks/runs/h2taoaqv</a>"
      ]
     },
     "metadata": {},
     "output_type": "display_data"
    },
    {
     "name": "stdout",
     "output_type": "stream",
     "text": [
      "Train model on 252 training examples and 60 validation examples\n",
      "Model trained in 0:00:00.318981\n",
      "Completed training and validation for fold 0\n",
      "Train model on 252 training examples and 60 validation examples\n",
      "Model trained in 0:00:00.360069\n",
      "Completed training and validation for fold 1\n",
      "Train model on 252 training examples and 60 validation examples\n",
      "Model trained in 0:00:00.323263\n",
      "Completed training and validation for fold 2\n",
      "Train model on 252 training examples and 60 validation examples\n",
      "Model trained in 0:00:00.412015\n",
      "Completed training and validation for fold 3\n",
      "Train model on 252 training examples and 60 validation examples\n",
      "Model trained in 0:00:00.368607\n",
      "Completed training and validation for fold 4\n",
      "Train model on 252 training examples and 60 validation examples\n",
      "Model trained in 0:00:00.338097\n",
      "Completed training and validation for fold 5\n",
      "Train model on 252 training examples and 60 validation examples\n",
      "Model trained in 0:00:00.382387\n",
      "Completed training and validation for fold 6\n",
      "Train model on 252 training examples and 60 validation examples\n",
      "Model trained in 0:00:00.295323\n",
      "Completed training and validation for fold 7\n",
      "Train model on 252 training examples and 60 validation examples\n",
      "Model trained in 0:00:00.337300\n",
      "Completed training and validation for fold 8\n",
      "Train model on 252 training examples and 60 validation examples\n",
      "Model trained in 0:00:00.321396\n",
      "Completed training and validation for fold 9\n",
      "Train model on 252 training examples and 60 validation examples\n",
      "Model trained in 0:00:00.387860\n",
      "Completed training and validation for fold 10\n",
      "Train model on 252 training examples and 60 validation examples\n",
      "Model trained in 0:00:00.356455\n",
      "Completed training and validation for fold 11\n",
      "Train model on 252 training examples and 60 validation examples\n",
      "Model trained in 0:00:00.300863\n",
      "Completed training and validation for fold 12\n"
     ]
    },
    {
     "data": {
      "text/plain": [
       "VBox(children=(Label(value='0.001 MB of 0.001 MB uploaded\\r'), FloatProgress(value=1.0, max=1.0)))"
      ],
      "application/vnd.jupyter.widget-view+json": {
       "version_major": 2,
       "version_minor": 0,
       "model_id": "86d28970eb084418ac0ef3601b0f0ac1"
      }
     },
     "metadata": {},
     "output_type": "display_data"
    },
    {
     "data": {
      "text/plain": [
       "<IPython.core.display.HTML object>"
      ],
      "text/html": [
       "<style>\n",
       "    table.wandb td:nth-child(1) { padding: 0 10px; text-align: left ; width: auto;} td:nth-child(2) {text-align: left ; width: 100%}\n",
       "    .wandb-row { display: flex; flex-direction: row; flex-wrap: wrap; justify-content: flex-start; width: 100% }\n",
       "    .wandb-col { display: flex; flex-direction: column; flex-basis: 100%; flex: 1; padding: 10px; }\n",
       "    </style>\n",
       "<div class=\"wandb-row\"><div class=\"wandb-col\"><h3>Run history:</h3><br/><table class=\"wandb\"><tr><td>accuracy</td><td>██▁▁███▁▁▁▁▁▁</td></tr><tr><td>fold</td><td>▁▂▂▃▃▄▅▅▆▆▇▇█</td></tr></table><br/></div><div class=\"wandb-col\"><h3>Run summary:</h3><br/><table class=\"wandb\"><tr><td>accuracy</td><td>0.12128</td></tr><tr><td>fold</td><td>12</td></tr></table><br/></div></div>"
      ]
     },
     "metadata": {},
     "output_type": "display_data"
    },
    {
     "data": {
      "text/plain": [
       "<IPython.core.display.HTML object>"
      ],
      "text/html": [
       " View run <strong style=\"color:#cdcd00\">playful-gorge-22</strong> at: <a href='https://wandb.ai/osamkabinladna-prospera/stonks/runs/h2taoaqv' target=\"_blank\">https://wandb.ai/osamkabinladna-prospera/stonks/runs/h2taoaqv</a><br/> View project at: <a href='https://wandb.ai/osamkabinladna-prospera/stonks' target=\"_blank\">https://wandb.ai/osamkabinladna-prospera/stonks</a><br/>Synced 6 W&B file(s), 0 media file(s), 0 artifact file(s) and 0 other file(s)"
      ]
     },
     "metadata": {},
     "output_type": "display_data"
    },
    {
     "data": {
      "text/plain": [
       "<IPython.core.display.HTML object>"
      ],
      "text/html": [
       "Find logs at: <code>./wandb/run-20240821_104641-h2taoaqv/logs</code>"
      ]
     },
     "metadata": {},
     "output_type": "display_data"
    },
    {
     "data": {
      "text/plain": [
       "<IPython.core.display.HTML object>"
      ],
      "text/html": [
       "The new W&B backend becomes opt-out in version 0.18.0; try it out with `wandb.require(\"core\")`! See https://wandb.me/wandb-core for more information."
      ]
     },
     "metadata": {},
     "output_type": "display_data"
    }
   ],
   "execution_count": 10
  },
  {
   "metadata": {
    "ExecuteTime": {
     "end_time": "2024-08-21T03:49:44.587620Z",
     "start_time": "2024-08-21T03:49:44.007890Z"
    }
   },
   "cell_type": "code",
   "source": "model.predict_proba(valid)",
   "id": "24c796ab9dcf58e3",
   "outputs": [
    {
     "ename": "AttributeError",
     "evalue": "'GradientBoostedTreesModel' object has no attribute 'predict_proba'",
     "output_type": "error",
     "traceback": [
      "\u001B[0;31m---------------------------------------------------------------------------\u001B[0m",
      "\u001B[0;31mAttributeError\u001B[0m                            Traceback (most recent call last)",
      "Cell \u001B[0;32mIn[11], line 1\u001B[0m\n\u001B[0;32m----> 1\u001B[0m \u001B[43mmodel\u001B[49m\u001B[38;5;241;43m.\u001B[39;49m\u001B[43mpredict_proba\u001B[49m(valid_df)\n",
      "\u001B[0;31mAttributeError\u001B[0m: 'GradientBoostedTreesModel' object has no attribute 'predict_proba'"
     ]
    }
   ],
   "execution_count": 11
  },
  {
   "metadata": {},
   "cell_type": "markdown",
   "source": "Train a Random Forest Model",
   "id": "57ba6c834e301687"
  },
  {
   "metadata": {},
   "cell_type": "code",
   "source": [
    "wandb.init(\n",
    "    project = \"stonks\",\n",
    "    config = {\n",
    "        \"num_trees\": 100,\n",
    "        \"architecture\": \"GradientBoostedTrees\",\n",
    "    }\n",
    ")\n",
    "\n",
    "# Loop through each set of training and validation data\n",
    "for i in range(13):  # Assuming i ranges from 0 to 12\n",
    "    # Load training and validation data\n",
    "    train_file = f\"covset0/train_{i}.csv\"\n",
    "    valid_file = f\"covset0/valid_{i}.csv\"\n",
    "\n",
    "    train_df = pd.read_csv(train_file)\n",
    "    valid_df = pd.read_csv(valid_file)\n",
    "\n",
    "    # Separate features and labels\n",
    "    X_train = train_df.drop(columns=['DELTA_20_QUINTILES'])  # Replace with actual label column\n",
    "    y_train = train_df['DELTA_20_QUINTILES']\n",
    "\n",
    "    X_valid = valid_df.drop(columns=['DELTA_20_QUINTILES'])  # Replace with actual label column\n",
    "    y_valid = valid_df['DELTA_20_QUINTILES']\n",
    "\n",
    "    # Combine X and y for YDF\n",
    "    train_data = pd.concat([X_train, y_train], axis=1)\n",
    "    valid_data = pd.concat([X_valid, y_valid], axis=1)\n",
    "\n",
    "    # Specify the label column for YDF\n",
    "    label = \"DELTA_20_QUINTILES\"\n",
    "\n",
    "    # Train the Gradient Boosted Trees model\n",
    "    model = ydf.RandomForestLearner(task=ydf.Task.CLASSIFICATION,\n",
    "                                    label=label,\n",
    "                                    l2_regularization=0.01, loss='MULTINOMIAL_LOG_LIKELIHOOD').train(train_data, valid=valid_df)\n",
    "\n",
    "\n",
    "    # Evaluate the model\n",
    "    evaluation = model.evaluate(valid_data)\n",
    "\n",
    "    # Log the results with WandB\n",
    "    wandb.log({\n",
    "        'fold': i,\n",
    "        'accuracy': evaluation.loss,  # Log cross-entropy or other metrics\n",
    "    })\n",
    "\n",
    "    print(f\"Completed training and validation for fold {i}\")\n",
    "\n",
    "# Finalize WandB run\n",
    "wandb.finish()"
   ],
   "id": "bdfd7cca453e32e1",
   "outputs": [],
   "execution_count": null
  },
  {
   "metadata": {},
   "cell_type": "code",
   "source": "evaluation.loss",
   "id": "ed4bc0f531180fc8",
   "outputs": [],
   "execution_count": null
  },
  {
   "metadata": {},
   "cell_type": "code",
   "source": "model.evaluate(valid_data)",
   "id": "5636d2d3e99c507",
   "outputs": [],
   "execution_count": null
  }
 ],
 "metadata": {
  "kernelspec": {
   "display_name": "Python 3",
   "language": "python",
   "name": "python3"
  },
  "language_info": {
   "codemirror_mode": {
    "name": "ipython",
    "version": 2
   },
   "file_extension": ".py",
   "mimetype": "text/x-python",
   "name": "python",
   "nbconvert_exporter": "python",
   "pygments_lexer": "ipython2",
   "version": "2.7.6"
  }
 },
 "nbformat": 4,
 "nbformat_minor": 5
}
