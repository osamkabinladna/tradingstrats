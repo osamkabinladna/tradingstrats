{
 "cells": [
  {
   "cell_type": "code",
   "id": "initial_id",
   "metadata": {
    "collapsed": true,
    "ExecuteTime": {
     "end_time": "2024-08-22T06:14:08.811300Z",
     "start_time": "2024-08-22T06:14:07.654843Z"
    }
   },
   "source": [
    "import pandas as pd\n",
    "import os\n",
    "import sklearn\n",
    "import numpy as np"
   ],
   "outputs": [],
   "execution_count": 1
  },
  {
   "metadata": {},
   "cell_type": "markdown",
   "source": "Load data",
   "id": "159a44bf668f9d79"
  },
  {
   "metadata": {
    "ExecuteTime": {
     "end_time": "2024-08-22T06:14:10.765071Z",
     "start_time": "2024-08-22T06:14:10.458762Z"
    }
   },
   "cell_type": "code",
   "source": [
    "covariates = pd.read_csv(\"./data/bigdata.csv\", index_col=\"Dates\", skiprows=5)\n",
    "covariates.index = pd.to_datetime(covariates.index)\n",
    "\n",
    "labels = pd.read_csv(\"./data/jkse.csv\", skiprows=5, index_col=\"Dates\")\n",
    "labels.index = pd.to_datetime(labels.index)\n",
    "\n",
    "labels = labels.rename(columns={\"PX_LAST\": \"JKSE_PRICE\"})\n",
    "labels['PCT_CHANGE_20'] = labels['JKSE_PRICE'].pct_change(periods=20) * 100"
   ],
   "id": "334f7778c2fc2498",
   "outputs": [],
   "execution_count": 2
  },
  {
   "metadata": {},
   "cell_type": "markdown",
   "source": "Split the dataset per ticker",
   "id": "13d54e52cd936517"
  },
  {
   "metadata": {
    "ExecuteTime": {
     "end_time": "2024-08-22T06:14:16.523563Z",
     "start_time": "2024-08-22T06:14:16.467626Z"
    }
   },
   "cell_type": "code",
   "source": [
    "def split_dataset(df):\n",
    "    \"\"\"\n",
    "    splits dataset per ticker \n",
    "    :param df: dataframe to be split\n",
    "    :return: list of dataframe split per ticker\n",
    "    \"\"\"\n",
    "    tickerlist = []\n",
    "    for i in range(27):\n",
    "        start = i * 11\n",
    "        end = start * 2\n",
    "        ticker = df.iloc[:, 11:22]\n",
    "        \n",
    "        if i == 0:\n",
    "            ticker = df.iloc[:, :11]\n",
    "            \n",
    "        tickerlist.append(ticker)\n",
    "    return tickerlist\n",
    "\n",
    "covlist = split_dataset(covariates)"
   ],
   "id": "f7ebe0c42c883e40",
   "outputs": [],
   "execution_count": 3
  },
  {
   "metadata": {},
   "cell_type": "markdown",
   "source": "Create technical covariates",
   "id": "31cc71b24c87fad5"
  },
  {
   "metadata": {
    "ExecuteTime": {
     "end_time": "2024-08-22T06:14:30.271211Z",
     "start_time": "2024-08-22T06:14:29.689272Z"
    }
   },
   "cell_type": "code",
   "source": [
    "colnames = covlist[0].columns.tolist()\n",
    "for cov in covlist:\n",
    "    # unify column names\n",
    "    cov.columns = colnames\n",
    "for cov in covlist:\n",
    "    # Volume = Turnover / Close Price\n",
    "    cov['VOLUME'] = cov['TURNOVER'] / cov['PX_LAST']\n",
    "    # Calculate percent change * 100\n",
    "    cov['PCT_CHANGE_20'] = cov['PX_LAST'].pct_change(periods=20) * 100\n",
    "    # Ratio 10/30 = mean volume ratio for the last 10 days / mean volume ratio for the last 30 days\n",
    "    cov['VOL_RATIO_10_30'] = cov['VOLUME'].rolling(window=10).mean() / cov['VOLUME'].rolling(window=30).mean()\n",
    "    cov['VOL_RATIO_30_60'] = cov['VOLUME'].rolling(window=30).mean() / cov['VOLUME'].rolling(window=60).mean()\n",
    "    cov['VOL_RATIO_60_120'] = cov['VOLUME'].rolling(window=60).mean() / cov['VOLUME'].rolling(window=120).mean()\n",
    "    # Example: Momentum Indicator for various lags\n",
    "    lags = [10, 20, 30, 60, 120]\n",
    "    for lag in lags:\n",
    "        cov[f'MOMENTUM_{lag}'] = cov['PX_LAST'] / cov['PX_LAST'].shift(lag)\n",
    "        cov[f'TURNOVER_{lag}'] = cov['TURNOVER'].rolling(window=lag).mean()\n",
    "        cov[f'PX_MOMENTUM_{lag}'] = cov['PX_LAST'] / cov['PX_LAST'].shift(lag)\n",
    "        cov[f'PX_REVERSAL_{lag}'] = cov['PX_LAST'].shift(lag) / cov['PX_LAST']\n",
    "        cov[f'VOLATILITY_{lag}'] = cov['PX_LAST'].rolling(window=lag).std()\n",
    "        cov[f'VOLUME_STD_{lag}'] = cov['VOLUME'].rolling(window=lag).std()"
   ],
   "id": "708a78eee2041e04",
   "outputs": [],
   "execution_count": 4
  },
  {
   "metadata": {
    "ExecuteTime": {
     "end_time": "2024-08-22T06:14:55.427456Z",
     "start_time": "2024-08-22T06:14:55.174956Z"
    }
   },
   "cell_type": "code",
   "source": [
    "# Remove duplicate indices if any\n",
    "labels = labels[~labels.index.duplicated(keep='first')]\n",
    "\n",
    "for i in range(len(covlist)):\n",
    "    cov = covlist[i]\n",
    "    cov = cov[~cov.index.duplicated(keep='first')]\n",
    "\n",
    "    # Explicitly create a copy of the cov DataFrame to avoid SettingWithCopyWarning\n",
    "    cov_copy = cov.copy()\n",
    "\n",
    "    # Align the DataFrames on their indices (dates)\n",
    "    aligned_df = labels.join(cov_copy[['PCT_CHANGE_20']], how='inner', lsuffix='_labels')\n",
    "\n",
    "    # Calculate the difference and store it in cov_copy DataFrame\n",
    "    cov_copy.loc[aligned_df.index, 'DELTA_20_CHANGE'] = aligned_df['PCT_CHANGE_20_labels'] - aligned_df['PCT_CHANGE_20']\n",
    "\n",
    "    # Update the original DataFrame in covlist\n",
    "    covlist[i] = cov_copy\n"
   ],
   "id": "f39a56e0fd21c2e6",
   "outputs": [],
   "execution_count": 5
  },
  {
   "metadata": {
    "ExecuteTime": {
     "end_time": "2024-08-22T06:15:01.406925Z",
     "start_time": "2024-08-22T06:15:01.396086Z"
    }
   },
   "cell_type": "code",
   "source": [
    "def unique_index(df, suffix):\n",
    "    df_copy = df.copy()\n",
    "    new_index = [f\"{date.strftime('%Y-%m-%d')}-{suffix}\" for date in df.index]\n",
    "    df_copy.index = new_index\n",
    "    return df_copy"
   ],
   "id": "836782ff8afe9e38",
   "outputs": [],
   "execution_count": 6
  },
  {
   "metadata": {},
   "cell_type": "markdown",
   "source": "Create reindexed covlist + pool to find quantiles + insert index back to other covariates",
   "id": "b281f02f70d3c1d8"
  },
  {
   "metadata": {
    "ExecuteTime": {
     "end_time": "2024-08-22T06:15:04.221169Z",
     "start_time": "2024-08-22T06:15:03.619668Z"
    }
   },
   "cell_type": "code",
   "source": [
    "covlist_reindex = []\n",
    "for idx, cov in enumerate(covlist):\n",
    "    covlist_reindex.append(unique_index(cov, idx))\n",
    "    \n",
    "pooled_df = pd.DataFrame()\n",
    "for i, df in enumerate(covlist_reindex):\n",
    "    pooled_df = pd.concat([pooled_df, df['DELTA_20_CHANGE']])\n",
    "\n",
    "pooled_df['DELTA_20_QUINTILES'] = pd.qcut(pooled_df[0], q=5, labels=range(1, 6))\n",
    "\n",
    "for i, df in enumerate(covlist_reindex):\n",
    "    df['DELTA_20_QUINTILES'] = pooled_df.loc[df.index, 'DELTA_20_QUINTILES']\n",
    "    covlist_reindex[i] = df"
   ],
   "id": "de2395e9ef3897a2",
   "outputs": [],
   "execution_count": 7
  },
  {
   "metadata": {},
   "cell_type": "markdown",
   "source": "Drop NaNs",
   "id": "9039e16861a30871"
  },
  {
   "metadata": {
    "ExecuteTime": {
     "end_time": "2024-08-22T06:15:06.908861Z",
     "start_time": "2024-08-22T06:15:06.775068Z"
    }
   },
   "cell_type": "code",
   "source": [
    "for i in range(len(covlist_reindex)):\n",
    "    covlist_reindex[i] = covlist_reindex[i].dropna()\n",
    "    covlist_reindex[i] = covlist_reindex[i].reset_index(drop=True)"
   ],
   "id": "cc85e2c6ddcc3cae",
   "outputs": [],
   "execution_count": 8
  },
  {
   "metadata": {
    "ExecuteTime": {
     "end_time": "2024-08-22T06:15:09.221328Z",
     "start_time": "2024-08-22T06:15:09.159404Z"
    }
   },
   "cell_type": "code",
   "source": [
    "def rolling_window_save(train_window=252, test_window=60):\n",
    "    os.makedirs('train_data', exist_ok=True)\n",
    "    \n",
    "    for cov in covlist_reindex:\n",
    "        # Also removes labels \n",
    "        cov.drop(['DELTA_20_CHANGE', 'PCT_CHANGE_20'], axis=1, inplace=True)\n",
    "        tdf = []\n",
    "        vdf = []\n",
    "        for start in range(0, len(cov) - train_window - test_window, train_window + test_window):\n",
    "            end_train = start + train_window\n",
    "            end_test = end_train + test_window\n",
    "            \n",
    "            train_df = cov.iloc[start:end_train]\n",
    "            test_df = cov.iloc[end_train:end_test]\n",
    "            \n",
    "            tdf.append(train_df)\n",
    "            vdf.append(test_df)\n",
    "    \n",
    "    return tdf, vdf\n",
    "\n",
    "tdf, vdf = rolling_window_save(252, 60)"
   ],
   "id": "b4880f2292fc3687",
   "outputs": [],
   "execution_count": 9
  },
  {
   "metadata": {},
   "cell_type": "markdown",
   "source": "save data",
   "id": "6f210af4c10b59df"
  },
  {
   "metadata": {
    "ExecuteTime": {
     "end_time": "2024-08-22T06:17:31.431473Z",
     "start_time": "2024-08-22T06:17:31.300904Z"
    }
   },
   "cell_type": "code",
   "source": [
    "folder_name = 'covset0'\n",
    "os.makedirs(folder_name, exist_ok=True)\n",
    "for i in range(len(tdf)):\n",
    "    tdf[i].to_csv(f'{folder_name}/unnorm/train_{i}.csv', index=False)\n",
    "    vdf[i].to_csv(f'{folder_name}/unnorm/valid_{i}.csv', index=False)"
   ],
   "id": "8df26f6307e27824",
   "outputs": [],
   "execution_count": 12
  }
 ],
 "metadata": {
  "kernelspec": {
   "display_name": "Python 3",
   "language": "python",
   "name": "python3"
  },
  "language_info": {
   "codemirror_mode": {
    "name": "ipython",
    "version": 2
   },
   "file_extension": ".py",
   "mimetype": "text/x-python",
   "name": "python",
   "nbconvert_exporter": "python",
   "pygments_lexer": "ipython2",
   "version": "2.7.6"
  }
 },
 "nbformat": 4,
 "nbformat_minor": 5
}
