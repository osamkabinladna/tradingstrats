{
 "cells": [
  {
   "cell_type": "code",
   "id": "initial_id",
   "metadata": {
    "collapsed": true,
    "ExecuteTime": {
     "end_time": "2024-09-01T06:56:21.062382Z",
     "start_time": "2024-09-01T06:56:15.811169Z"
    }
   },
   "source": [
    "import joblib\n",
    "import pickle\n",
    "\n",
    "# Load all the objects using joblib\n",
    "model = joblib.load('./models/yuge75_experimental2.joblib')\n",
    "valid_full = joblib.load('./models/yuge75_validfull.joblib')\n",
    "x_valid = joblib.load('./models/yuge75_xvalid.joblib')\n",
    "y_valid = joblib.load('./models/yuge75_yvalid.joblib')\n",
    "\n",
    "x_oob = joblib.load('./models/yuge75_xoob.joblib')\n",
    "y_oob = joblib.load('./models/yuge75_yoob.joblib')\n",
    "oob_full = joblib.load('./models/yuge75_oobfull.joblib')\n",
    "\n",
    "# Combine all objects into a dictionary\n",
    "data = {\n",
    "    'model': model,\n",
    "    'valid_full': valid_full,\n",
    "    'x_valid': x_valid,\n",
    "    'y_valid': y_valid,\n",
    "    'x_oob': x_oob,\n",
    "    'y_oob': y_oob,\n",
    "    'oob_full': oob_full\n",
    "}\n",
    "\n",
    "# Save the dictionary into a pickle file\n",
    "with open('./models/random_forest_data.pkl', 'wb') as f:\n",
    "    pickle.dump(data, f)"
   ],
   "outputs": [],
   "execution_count": 1
  },
  {
   "metadata": {},
   "cell_type": "code",
   "outputs": [],
   "execution_count": null,
   "source": "",
   "id": "4d7a51df57495392"
  }
 ],
 "metadata": {
  "kernelspec": {
   "display_name": "Python 3",
   "language": "python",
   "name": "python3"
  },
  "language_info": {
   "codemirror_mode": {
    "name": "ipython",
    "version": 2
   },
   "file_extension": ".py",
   "mimetype": "text/x-python",
   "name": "python",
   "nbconvert_exporter": "python",
   "pygments_lexer": "ipython2",
   "version": "2.7.6"
  }
 },
 "nbformat": 4,
 "nbformat_minor": 5
}
