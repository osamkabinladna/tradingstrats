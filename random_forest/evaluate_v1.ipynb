{
 "cells": [
  {
   "cell_type": "code",
   "id": "initial_id",
   "metadata": {
    "collapsed": true,
    "ExecuteTime": {
     "end_time": "2024-09-03T03:48:39.465657Z",
     "start_time": "2024-09-03T03:48:38.469221Z"
    }
   },
   "source": [
    "import joblib\n",
    "import pandas as pd\n",
    "from sklearn.metrics import classification_report, accuracy_score"
   ],
   "outputs": [],
   "execution_count": 1
  },
  {
   "metadata": {
    "ExecuteTime": {
     "end_time": "2024-09-03T03:49:07.525656Z",
     "start_time": "2024-09-03T03:49:07.378026Z"
    }
   },
   "cell_type": "code",
   "source": "model = joblib.load('models/experimental.joblib')",
   "id": "d659c8115332709f",
   "outputs": [],
   "execution_count": 2
  },
  {
   "metadata": {
    "ExecuteTime": {
     "end_time": "2024-09-03T03:49:33.803662Z",
     "start_time": "2024-09-03T03:49:33.028706Z"
    }
   },
   "cell_type": "code",
   "source": [
    "x_valid = joblib.load('../random_forest/models/yuge70_xvalid.joblib')\n",
    "y_valid = joblib.load('../random_forest/models/yuge70_yvalid.joblib')\n",
    "valid_full = joblib.load('../random_forest/models/yuge70_validfull.joblib')\n",
    "x_oob = joblib.load('../random_forest/models/yuge70_xoob.joblib')\n",
    "y_oob = joblib.load('../random_forest/models/yuge70_yoob.joblib')\n",
    "oob_full = joblib.load('../random_forest/models/yuge70_oobfull.joblib')"
   ],
   "id": "40c06bbe0e9bd5fc",
   "outputs": [],
   "execution_count": 3
  },
  {
   "metadata": {
    "ExecuteTime": {
     "end_time": "2024-09-03T03:52:55.013798Z",
     "start_time": "2024-09-03T03:52:45.270423Z"
    }
   },
   "cell_type": "code",
   "source": "preds = model.predict(x_valid)",
   "id": "96a7bc9991f06888",
   "outputs": [],
   "execution_count": 11
  },
  {
   "metadata": {
    "ExecuteTime": {
     "end_time": "2024-09-03T03:52:57.020199Z",
     "start_time": "2024-09-03T03:52:57.014840Z"
    }
   },
   "cell_type": "code",
   "source": "preds.sum()",
   "id": "349b9b26529570e0",
   "outputs": [
    {
     "data": {
      "text/plain": [
       "186"
      ]
     },
     "execution_count": 12,
     "metadata": {},
     "output_type": "execute_result"
    }
   ],
   "execution_count": 12
  },
  {
   "metadata": {
    "ExecuteTime": {
     "end_time": "2024-09-03T03:51:19.138704Z",
     "start_time": "2024-09-03T03:51:19.121125Z"
    }
   },
   "cell_type": "code",
   "source": "accuracy_score(preds, y_oob)",
   "id": "29e896ca8365707b",
   "outputs": [
    {
     "data": {
      "text/plain": [
       "0.7891891891891892"
      ]
     },
     "execution_count": 7,
     "metadata": {},
     "output_type": "execute_result"
    }
   ],
   "execution_count": 7
  },
  {
   "metadata": {
    "ExecuteTime": {
     "end_time": "2024-09-03T03:52:11.033147Z",
     "start_time": "2024-09-03T03:52:10.992356Z"
    }
   },
   "cell_type": "code",
   "source": "print(classification_report(y_oob, preds))",
   "id": "61ddb369bae9f3ff",
   "outputs": [
    {
     "name": "stdout",
     "output_type": "stream",
     "text": [
      "              precision    recall  f1-score   support\n",
      "\n",
      "         0.0       0.79      1.00      0.88      5256\n",
      "         1.0       0.00      0.00      0.00      1404\n",
      "\n",
      "    accuracy                           0.79      6660\n",
      "   macro avg       0.39      0.50      0.44      6660\n",
      "weighted avg       0.62      0.79      0.70      6660\n",
      "\n"
     ]
    },
    {
     "name": "stderr",
     "output_type": "stream",
     "text": [
      "/opt/homebrew/Caskroom/miniconda/base/envs/tradingstrats/lib/python3.8/site-packages/sklearn/metrics/_classification.py:1471: UndefinedMetricWarning: Precision and F-score are ill-defined and being set to 0.0 in labels with no predicted samples. Use `zero_division` parameter to control this behavior.\n",
      "  _warn_prf(average, modifier, msg_start, len(result))\n",
      "/opt/homebrew/Caskroom/miniconda/base/envs/tradingstrats/lib/python3.8/site-packages/sklearn/metrics/_classification.py:1471: UndefinedMetricWarning: Precision and F-score are ill-defined and being set to 0.0 in labels with no predicted samples. Use `zero_division` parameter to control this behavior.\n",
      "  _warn_prf(average, modifier, msg_start, len(result))\n",
      "/opt/homebrew/Caskroom/miniconda/base/envs/tradingstrats/lib/python3.8/site-packages/sklearn/metrics/_classification.py:1471: UndefinedMetricWarning: Precision and F-score are ill-defined and being set to 0.0 in labels with no predicted samples. Use `zero_division` parameter to control this behavior.\n",
      "  _warn_prf(average, modifier, msg_start, len(result))\n"
     ]
    }
   ],
   "execution_count": 9
  },
  {
   "metadata": {},
   "cell_type": "code",
   "outputs": [],
   "execution_count": null,
   "source": "",
   "id": "887d6d6861dcff96"
  }
 ],
 "metadata": {
  "kernelspec": {
   "display_name": "Python 3",
   "language": "python",
   "name": "python3"
  },
  "language_info": {
   "codemirror_mode": {
    "name": "ipython",
    "version": 2
   },
   "file_extension": ".py",
   "mimetype": "text/x-python",
   "name": "python",
   "nbconvert_exporter": "python",
   "pygments_lexer": "ipython2",
   "version": "2.7.6"
  }
 },
 "nbformat": 4,
 "nbformat_minor": 5
}
