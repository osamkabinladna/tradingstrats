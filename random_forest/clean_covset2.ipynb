{
 "cells": [
  {
   "cell_type": "code",
   "id": "initial_id",
   "metadata": {
    "collapsed": true,
    "ExecuteTime": {
     "end_time": "2024-08-28T03:30:15.444055Z",
     "start_time": "2024-08-28T03:30:14.926786Z"
    }
   },
   "source": [
    "import pandas as pd\n",
    "from utils import split_dataset\n",
    "import os\n",
    "import re"
   ],
   "outputs": [],
   "execution_count": 1
  },
  {
   "metadata": {
    "ExecuteTime": {
     "end_time": "2024-08-28T03:30:17.441408Z",
     "start_time": "2024-08-28T03:30:16.191197Z"
    }
   },
   "cell_type": "code",
   "source": "covariates = pd.read_csv('./data/bigdata3.csv', low_memory=True, skiprows=5)",
   "id": "e73500f61f4a842f",
   "outputs": [],
   "execution_count": 2
  },
  {
   "metadata": {
    "ExecuteTime": {
     "end_time": "2024-08-28T03:30:20.586526Z",
     "start_time": "2024-08-28T03:30:20.571486Z"
    }
   },
   "cell_type": "code",
   "source": [
    "def compute_covariates(cov):\n",
    "    # Volume = Turnover / Close Price\n",
    "    cov['VOLUME'] = cov['TURNOVER'] / cov['PX_LAST']\n",
    "    # Calculate percent change * 100\n",
    "    cov['PCT_CHANGE_20'] = ((cov['PX_LAST'].shift(-20) - cov['PX_LAST']) / cov['PX_LAST']) * 100\n",
    "    # Ratio 10/30 = mean volume ratio for the last 10 days / mean volume ratio for the last 30 days\n",
    "    cov['VOL_RATIO_10_20'] = cov['VOLUME'].rolling(window=10).mean() / cov['VOLUME'].rolling(window=20).mean()\n",
    "    cov['VOL_RATIO_20_40'] = cov['VOLUME'].rolling(window=20).mean() / cov['VOLUME'].rolling(window=40).mean()\n",
    "    cov['VOL_RATIO_40_80'] = cov['VOLUME'].rolling(window=40).mean() / cov['VOLUME'].rolling(window=80).mean()\n",
    "    cov['VOL_RATIO_80_120'] = cov['VOLUME'].rolling(window=80).mean() / cov['VOLUME'].rolling(window=120).mean()\n",
    "\n",
    "    # PE Band\n",
    "    cov['PE_Ratio'] = 1 / cov['EARN_YLD']\n",
    "    win = 60  # Set the rolling window period\n",
    "    cov['PE_Band_25'] = cov['PE_Ratio'].rolling(win).quantile(0.25)\n",
    "    cov['PE_Band_50'] = cov['PE_Ratio'].rolling(win).quantile(0.50)\n",
    "    cov['PE_Band_75'] = cov['PE_Ratio'].rolling(win).quantile(0.75)\n",
    "\n",
    "    # Calculate the 12-day EMA of PX_LAST\n",
    "    ema_12 = cov['PX_LAST'].ewm(span=12, adjust=False).mean()\n",
    "\n",
    "    # Calculate the 26-day EMA of PX_LAST\n",
    "    ema_26 = cov['PX_LAST'].ewm(span=26, adjust=False).mean()\n",
    "\n",
    "    # Calculate MACD\n",
    "    cov['MACD'] = ema_12 - ema_26\n",
    "\n",
    "    # Calculate the Signal line (9-day EMA of MACD)\n",
    "    cov['MACD_Signal'] = cov['MACD'].ewm(span=9, adjust=False).mean()\n",
    "\n",
    "    # Optionally, you can also calculate the MACD Histogram (the difference between MACD and Signal line)\n",
    "    cov['MACD_Histogram'] = cov['MACD'] - cov['MACD_Signal']\n",
    "\n",
    "    # Example: Momentum Indicator for various lags\n",
    "    lags = [10, 20, 30, 60, 120]\n",
    "    for lag in lags:\n",
    "        cov[f'MOMENTUM_{lag}'] = cov['PX_LAST'] / cov['PX_LAST'].shift(lag)\n",
    "        cov[f'TURNOVER_{lag}'] = cov['TURNOVER'].rolling(window=lag).mean()\n",
    "        cov[f'PX_MOMENTUM_{lag}'] = cov['PX_LAST'] / cov['PX_LAST'].shift(lag)\n",
    "        cov[f'PX_REVERSAL_{lag}'] = cov['PX_LAST'].shift(lag) / cov['PX_LAST']\n",
    "        cov[f'VOLATILITY_{lag}'] = cov['PX_LAST'].rolling(window=lag).std()\n",
    "        cov[f'VOLUME_STD_{lag}'] = cov['VOLUME'].rolling(window=lag).std()\n",
    "    return cov"
   ],
   "id": "38d6e17afb4ba208",
   "outputs": [],
   "execution_count": 3
  },
  {
   "metadata": {
    "ExecuteTime": {
     "end_time": "2024-08-28T03:30:23.494176Z",
     "start_time": "2024-08-28T03:30:23.468845Z"
    }
   },
   "cell_type": "code",
   "source": [
    "covariates = covariates.tail(10)\n",
    "covariates = compute_covariates(covariates)"
   ],
   "id": "1635831f32c4f1f",
   "outputs": [],
   "execution_count": 4
  },
  {
   "metadata": {
    "ExecuteTime": {
     "end_time": "2024-08-28T03:30:25.011365Z",
     "start_time": "2024-08-28T03:30:24.954514Z"
    }
   },
   "cell_type": "code",
   "source": "covariates.to_csv('./2bpred/28Aug2024.csv')",
   "id": "2f0a22902f5273b8",
   "outputs": [],
   "execution_count": 5
  },
  {
   "metadata": {},
   "cell_type": "code",
   "source": [
    "def does_not_end_with_number(column_name):\n",
    "    return not re.search(r'\\d$', column_name)\n",
    "\n",
    "# Apply the function to the column names and count the matches\n",
    "count = sum(does_not_end_with_number(col) for col in covariates.columns)\n"
   ],
   "id": "42add8223fa6de98",
   "outputs": [],
   "execution_count": null
  },
  {
   "metadata": {},
   "cell_type": "code",
   "source": "covariates",
   "id": "907826221516d4fd",
   "outputs": [],
   "execution_count": null
  }
 ],
 "metadata": {
  "kernelspec": {
   "display_name": "Python 3",
   "language": "python",
   "name": "python3"
  },
  "language_info": {
   "codemirror_mode": {
    "name": "ipython",
    "version": 2
   },
   "file_extension": ".py",
   "mimetype": "text/x-python",
   "name": "python",
   "nbconvert_exporter": "python",
   "pygments_lexer": "ipython2",
   "version": "2.7.6"
  }
 },
 "nbformat": 4,
 "nbformat_minor": 5
}
