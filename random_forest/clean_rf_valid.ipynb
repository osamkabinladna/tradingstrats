{
 "cells": [
  {
   "cell_type": "code",
   "id": "initial_id",
   "metadata": {
    "collapsed": true,
    "ExecuteTime": {
     "end_time": "2024-08-25T04:09:37.846684Z",
     "start_time": "2024-08-25T04:09:37.755457Z"
    }
   },
   "source": [
    "import pandas as pd\n",
    "import os\n",
    "import sklearn\n",
    "import numpy as np\n",
    "from utils import split_dataset"
   ],
   "outputs": [],
   "execution_count": 2
  },
  {
   "metadata": {},
   "cell_type": "markdown",
   "source": "Load data",
   "id": "159a44bf668f9d79"
  },
  {
   "metadata": {
    "ExecuteTime": {
     "end_time": "2024-08-25T04:09:40.483386Z",
     "start_time": "2024-08-25T04:09:40.250194Z"
    }
   },
   "cell_type": "code",
   "source": [
    "covariates = pd.read_csv(\"./data/bigdata.csv\", index_col=\"Dates\", skiprows=5)\n",
    "covariates.index = pd.to_datetime(covariates.index)\n",
    "\n",
    "labels = pd.read_csv(\"./data/jkse.csv\", skiprows=5, index_col=\"Dates\")\n",
    "labels.index = pd.to_datetime(labels.index)\n",
    "\n",
    "labels = labels.rename(columns={\"PX_LAST\": \"JKSE_PRICE\"})\n",
    "labels['PCT_CHANGE_20_JKSE'] = labels['JKSE_PRICE'].pct_change(periods=20) * 100"
   ],
   "id": "334f7778c2fc2498",
   "outputs": [],
   "execution_count": 3
  },
  {
   "metadata": {},
   "cell_type": "markdown",
   "source": "Split the dataset per ticker",
   "id": "13d54e52cd936517"
  },
  {
   "metadata": {
    "ExecuteTime": {
     "end_time": "2024-08-25T04:09:42.173574Z",
     "start_time": "2024-08-25T04:09:42.143809Z"
    }
   },
   "cell_type": "code",
   "source": "covlist = split_dataset(covariates)",
   "id": "f7ebe0c42c883e40",
   "outputs": [],
   "execution_count": 4
  },
  {
   "metadata": {},
   "cell_type": "markdown",
   "source": [
    "## Create technical covariates\n",
    "\n",
    "\n",
    "### PE Band & P/E Ratio  \n",
    "$$\n",
    " \\text{P/E Ratio} = \\frac{1}{\\text{EARN\\_YLD}} \n",
    "$$\n",
    "\n",
    "* $PE Band_q $ is the q-th percentile of P/E Ratio in a 60 trading days rolling window\n",
    "\n",
    "### Mean Average Convergence/Divergence (MACD)\n",
    "\n",
    "- MACD is the difference of short term $\\text{EMA}_{12}$ and long term $\\text{EMA}_{26}$ (signal for momentum)\n",
    "- MACD Signal is the signal line of 9 day EMA of the MACD\n",
    "- MACD Histogram is the difference between the MACD line and the signal line"
   ],
   "id": "31cc71b24c87fad5"
  },
  {
   "metadata": {
    "ExecuteTime": {
     "end_time": "2024-08-25T04:09:52.794627Z",
     "start_time": "2024-08-25T04:09:52.305218Z"
    }
   },
   "cell_type": "code",
   "source": [
    "colnames = covlist[0].columns.tolist()\n",
    "for cov in covlist:\n",
    "    # unify column names\n",
    "    cov.columns = colnames\n",
    "for cov in covlist:\n",
    "    # Volume = Turnover / Close Price\n",
    "    cov['VOLUME'] = cov['TURNOVER'] / cov['PX_LAST']\n",
    "    # Calculate percent change * 100\n",
    "    cov['PCT_CHANGE_20'] = cov['PX_LAST'].pct_change(periods=20) * 100\n",
    "    # Ratio 10/30 = mean volume ratio for the last 10 days / mean volume ratio for the last 30 days\n",
    "    cov['VOL_RATIO_10_20'] = cov['VOLUME'].rolling(window=10).mean() / cov['VOLUME'].rolling(window=20).mean()\n",
    "    cov['VOL_RATIO_20_40'] = cov['VOLUME'].rolling(window=20).mean() / cov['VOLUME'].rolling(window=40).mean()\n",
    "    cov['VOL_RATIO_40_80'] = cov['VOLUME'].rolling(window=40).mean() / cov['VOLUME'].rolling(window=80).mean()\n",
    "    cov['VOL_RATIO_80_120'] = cov['VOLUME'].rolling(window=80).mean() / cov['VOLUME'].rolling(window=120).mean()\n",
    "    \n",
    "    # PE Band\n",
    "    cov['PE_Ratio'] = 1 / cov['EARN_YLD']\n",
    "    win = 60  # Set the rolling window period\n",
    "    cov['PE_Band_25'] = cov['PE_Ratio'].rolling(win).quantile(0.25)\n",
    "    cov['PE_Band_50'] = cov['PE_Ratio'].rolling(win).quantile(0.50)\n",
    "    cov['PE_Band_75'] = cov['PE_Ratio'].rolling(win).quantile(0.75)\n",
    "\n",
    "    # Calculate the 12-day EMA of PX_LAST\n",
    "    ema_12 = cov['PX_LAST'].ewm(span=12, adjust=False).mean()\n",
    "\n",
    "    # Calculate the 26-day EMA of PX_LAST\n",
    "    ema_26 = cov['PX_LAST'].ewm(span=26, adjust=False).mean()\n",
    "\n",
    "    # Calculate MACD\n",
    "    cov['MACD'] = ema_12 - ema_26\n",
    "\n",
    "    # Calculate the Signal line (9-day EMA of MACD)\n",
    "    cov['MACD_Signal'] = cov['MACD'].ewm(span=9, adjust=False).mean()\n",
    "\n",
    "    # Optionally, you can also calculate the MACD Histogram (the difference between MACD and Signal line)\n",
    "    cov['MACD_Histogram'] = cov['MACD'] - cov['MACD_Signal']\n",
    "    \n",
    "    # Example: Momentum Indicator for various lags\n",
    "    lags = [10, 20, 30, 60, 120]\n",
    "    for lag in lags:\n",
    "        cov[f'MOMENTUM_{lag}'] = cov['PX_LAST'] / cov['PX_LAST'].shift(lag)\n",
    "        cov[f'TURNOVER_{lag}'] = cov['TURNOVER'].rolling(window=lag).mean()\n",
    "        cov[f'PX_MOMENTUM_{lag}'] = cov['PX_LAST'] / cov['PX_LAST'].shift(lag)\n",
    "        cov[f'PX_REVERSAL_{lag}'] = cov['PX_LAST'].shift(lag) / cov['PX_LAST']\n",
    "        cov[f'VOLATILITY_{lag}'] = cov['PX_LAST'].rolling(window=lag).std()\n",
    "        cov[f'VOLUME_STD_{lag}'] = cov['VOLUME'].rolling(window=lag).std()"
   ],
   "id": "708a78eee2041e04",
   "outputs": [],
   "execution_count": 5
  },
  {
   "metadata": {
    "ExecuteTime": {
     "end_time": "2024-08-25T04:10:06.690217Z",
     "start_time": "2024-08-25T04:10:06.484317Z"
    }
   },
   "cell_type": "code",
   "source": [
    "# Remove duplicate indices if any\n",
    "labels = labels[~labels.index.duplicated(keep='first')]\n",
    "\n",
    "for i in range(len(covlist)):\n",
    "    cov = covlist[i]\n",
    "    cov = cov[~cov.index.duplicated(keep='first')]\n",
    "\n",
    "    # Explicitly create a copy of the cov DataFrame to avoid SettingWithCopyWarning\n",
    "    cov_copy = cov.copy()\n",
    "\n",
    "    # Align the DataFrames on their indices (dates)\n",
    "    aligned_df = labels.join(cov_copy[['PCT_CHANGE_20']], how='inner')\n",
    "\n",
    "    # Calculate the difference and store it in cov_copy DataFrame\n",
    "    cov_copy.loc[aligned_df.index, 'DELTA_20_CHANGE'] = aligned_df['PCT_CHANGE_20'] - aligned_df['PCT_CHANGE_20_JKSE']\n",
    "\n",
    "    # Update the original DataFrame in covlist\n",
    "    covlist[i] = cov_copy\n"
   ],
   "id": "f39a56e0fd21c2e6",
   "outputs": [],
   "execution_count": 6
  },
  {
   "metadata": {
    "ExecuteTime": {
     "end_time": "2024-08-25T04:10:54.594960Z",
     "start_time": "2024-08-25T04:10:54.394845Z"
    }
   },
   "cell_type": "code",
   "source": "tickernames = [col[:4] for col in pd.read_csv(\"./data/bigdata.csv\", skiprows=3).columns if not col.startswith(\"Unnamed\")]",
   "id": "dc8b53847dbb8f14",
   "outputs": [
    {
     "name": "stderr",
     "output_type": "stream",
     "text": [
      "/var/folders/5w/sk_z507j78j69yh904rh10440000gn/T/ipykernel_92329/2531172465.py:1: DtypeWarning: Columns (1,2,3,4,5,6,7,8,9,10,11,12,13,14,15,16,17,18,19,20,21,22,23,24,25,26,27,28,29,30,31,32,33,34,35,36,37,38,39,40,41,42,43,44,45,46,47,48,49,50,51,52,53,54,55,56,57,58,59,60,61,62,63,64,65,66,67,68,69,70,71,72,73,74,75,76,77,78,79,80,81,82,83,84,85,86,87,88,89,90,91,92,93,94,95,96,97,98,99,100,101,102,103,104,105,106,107,108,109,110,111,112,113,114,115,116,117,118,119,120,121,122,123,124,125,126,127,128,129,130,131,132,133,134,135,136,137,138,139,140,141,142,143,144,145,146,147,148,149,150,151,152,153,154,155,156,157,158,159,160,161,162,163,164,165,166,167,168,169,170,171,172,173,174,175,176,177,178,179,180,181,182,183,184,185,186,187,188,189,190,191,192,193,194,195,196,197,198,199,200,201,202,203,204,205,206,207,208,209,210,211,212,213,214,215,216,217,218,219,220,221,222,223,224,225,226,227,228,229,230,231,232,233,234,235,236,237,238,239,240,241,242,243,244,245,246,247,248,249,250,251,252,253,254,255,256,257,258,259,260,261,262,263,264,265,266,267,268,269,270,271,272,273,274,275,276,277,278,279,280,281,282,283,284,285,286,287,288,289,290,291,292,293,294,295,296,297) have mixed types. Specify dtype option on import or set low_memory=False.\n",
      "  tickernames = [col[:4] for col in pd.read_csv(\"./data/bigdata.csv\", skiprows=3).columns if not col.startswith(\"Unnamed\")]\n"
     ]
    }
   ],
   "execution_count": 8
  },
  {
   "metadata": {
    "ExecuteTime": {
     "end_time": "2024-08-25T04:11:19.382813Z",
     "start_time": "2024-08-25T04:11:19.375030Z"
    }
   },
   "cell_type": "code",
   "source": "len(tickernames)",
   "id": "a454241a3d59d948",
   "outputs": [
    {
     "data": {
      "text/plain": [
       "27"
      ]
     },
     "execution_count": 10,
     "metadata": {},
     "output_type": "execute_result"
    }
   ],
   "execution_count": 10
  },
  {
   "metadata": {
    "ExecuteTime": {
     "end_time": "2024-08-25T04:12:51.074407Z",
     "start_time": "2024-08-25T04:12:51.061559Z"
    }
   },
   "cell_type": "code",
   "source": [
    "for i in range(len(covlist)):\n",
    "    covlist[i]['Ticker'] = tickernames[i]"
   ],
   "id": "64c3ecbe463ade09",
   "outputs": [],
   "execution_count": 12
  },
  {
   "metadata": {},
   "cell_type": "markdown",
   "source": "## This is for hmm clean",
   "id": "1d8c197e698ffb9a"
  },
  {
   "metadata": {
    "ExecuteTime": {
     "end_time": "2024-08-25T04:13:11.265591Z",
     "start_time": "2024-08-25T04:13:11.250596Z"
    }
   },
   "cell_type": "code",
   "source": [
    "deltas = []\n",
    "for cov in covlist:\n",
    "    delta = cov[['DELTA_20_CHANGE']]\n",
    "    deltas.append(delta)"
   ],
   "id": "df9fb6ca4be7c8c0",
   "outputs": [],
   "execution_count": 14
  },
  {
   "metadata": {
    "ExecuteTime": {
     "end_time": "2024-08-25T04:13:13.792945Z",
     "start_time": "2024-08-25T04:13:13.645174Z"
    }
   },
   "cell_type": "code",
   "source": [
    "delta_df = pd.concat(deltas, axis=1)\n",
    "tickernames = [col[:4] for col in pd.read_csv(\"./data/bigdata.csv\", skiprows=3).columns if not col.startswith(\"Unnamed\")]\n",
    "delta_df.columns = tickernames"
   ],
   "id": "c9140df8f314c1f5",
   "outputs": [
    {
     "name": "stderr",
     "output_type": "stream",
     "text": [
      "/var/folders/5w/sk_z507j78j69yh904rh10440000gn/T/ipykernel_92329/2692577310.py:2: DtypeWarning: Columns (1,2,3,4,5,6,7,8,9,10,11,12,13,14,15,16,17,18,19,20,21,22,23,24,25,26,27,28,29,30,31,32,33,34,35,36,37,38,39,40,41,42,43,44,45,46,47,48,49,50,51,52,53,54,55,56,57,58,59,60,61,62,63,64,65,66,67,68,69,70,71,72,73,74,75,76,77,78,79,80,81,82,83,84,85,86,87,88,89,90,91,92,93,94,95,96,97,98,99,100,101,102,103,104,105,106,107,108,109,110,111,112,113,114,115,116,117,118,119,120,121,122,123,124,125,126,127,128,129,130,131,132,133,134,135,136,137,138,139,140,141,142,143,144,145,146,147,148,149,150,151,152,153,154,155,156,157,158,159,160,161,162,163,164,165,166,167,168,169,170,171,172,173,174,175,176,177,178,179,180,181,182,183,184,185,186,187,188,189,190,191,192,193,194,195,196,197,198,199,200,201,202,203,204,205,206,207,208,209,210,211,212,213,214,215,216,217,218,219,220,221,222,223,224,225,226,227,228,229,230,231,232,233,234,235,236,237,238,239,240,241,242,243,244,245,246,247,248,249,250,251,252,253,254,255,256,257,258,259,260,261,262,263,264,265,266,267,268,269,270,271,272,273,274,275,276,277,278,279,280,281,282,283,284,285,286,287,288,289,290,291,292,293,294,295,296,297) have mixed types. Specify dtype option on import or set low_memory=False.\n",
      "  tickernames = [col[:4] for col in pd.read_csv(\"./data/bigdata.csv\", skiprows=3).columns if not col.startswith(\"Unnamed\")]\n"
     ]
    }
   ],
   "execution_count": 15
  },
  {
   "metadata": {
    "ExecuteTime": {
     "end_time": "2024-08-25T04:13:31.982357Z",
     "start_time": "2024-08-25T04:13:31.957447Z"
    }
   },
   "cell_type": "code",
   "source": [
    "delta_df.drop(['MDKA', 'ICBP', 'ARTO', 'PGEO'], axis=1, inplace=True)\n",
    "delta_df.dropna(inplace=True, axis=0, how='all')"
   ],
   "id": "4f20035d791febac",
   "outputs": [],
   "execution_count": 16
  },
  {
   "metadata": {
    "ExecuteTime": {
     "end_time": "2024-08-25T04:13:38.392270Z",
     "start_time": "2024-08-25T04:13:38.249223Z"
    }
   },
   "cell_type": "code",
   "source": "delta_df.to_csv('./covset0/unnorm/hmm.csv')",
   "id": "2420b5b1c5a0a014",
   "outputs": [],
   "execution_count": 17
  },
  {
   "metadata": {
    "ExecuteTime": {
     "end_time": "2024-08-25T04:14:01.517825Z",
     "start_time": "2024-08-25T04:14:01.511365Z"
    }
   },
   "cell_type": "code",
   "source": [
    "def unique_index(df, suffix):\n",
    "    df_copy = df.copy()\n",
    "    new_index = [f\"{date.strftime('%Y-%m-%d')}-{suffix}\" for date in df.index]\n",
    "    df_copy.index = new_index\n",
    "    return df_copy"
   ],
   "id": "836782ff8afe9e38",
   "outputs": [],
   "execution_count": 18
  },
  {
   "metadata": {},
   "cell_type": "markdown",
   "source": "Create reindexed covlist + pool to find quantiles + insert index back to other covariates",
   "id": "b281f02f70d3c1d8"
  },
  {
   "metadata": {
    "ExecuteTime": {
     "end_time": "2024-08-25T04:14:03.131623Z",
     "start_time": "2024-08-25T04:14:02.778575Z"
    }
   },
   "cell_type": "code",
   "source": [
    "covlist_reindex = []\n",
    "for idx, cov in enumerate(covlist):\n",
    "    covlist_reindex.append(unique_index(cov, idx))\n",
    "    \n",
    "pooled_df = pd.DataFrame()\n",
    "for i, df in enumerate(covlist_reindex):\n",
    "    pooled_df = pd.concat([pooled_df, df['DELTA_20_CHANGE']])\n",
    "\n",
    "pooled_df['DELTA_20_QUINTILES'] = pd.qcut(pooled_df[0], q=5, labels=range(1, 6))\n",
    "\n",
    "for i, df in enumerate(covlist_reindex):\n",
    "    df['DELTA_20_QUINTILES'] = pooled_df.loc[df.index, 'DELTA_20_QUINTILES']\n",
    "    covlist_reindex[i] = df"
   ],
   "id": "de2395e9ef3897a2",
   "outputs": [],
   "execution_count": 19
  },
  {
   "metadata": {
    "ExecuteTime": {
     "end_time": "2024-08-25T04:14:04.319726Z",
     "start_time": "2024-08-25T04:14:04.312057Z"
    }
   },
   "cell_type": "code",
   "source": "covlist[0].columns\n",
   "id": "18a008d2e58efef4",
   "outputs": [
    {
     "data": {
      "text/plain": [
       "Index(['EARN_YLD', 'PX_TO_BOOK_RATIO', 'PX_TO_SALES_RATIO', 'RETURN_ON_ASSET',\n",
       "       'RETURN_COM_EQY', 'CUR_MKT_CAP', 'TRAIL_12M_NET_INC_GROWTH',\n",
       "       'OPER_INC_GROWTH', 'VWAP_STANDARD_DEV', 'PX_LAST', 'TURNOVER', 'VOLUME',\n",
       "       'PCT_CHANGE_20', 'VOL_RATIO_10_20', 'VOL_RATIO_20_40',\n",
       "       'VOL_RATIO_40_80', 'VOL_RATIO_80_120', 'PE_Ratio', 'PE_Band_25',\n",
       "       'PE_Band_50', 'PE_Band_75', 'MACD', 'MACD_Signal', 'MACD_Histogram',\n",
       "       'MOMENTUM_10', 'TURNOVER_10', 'PX_MOMENTUM_10', 'PX_REVERSAL_10',\n",
       "       'VOLATILITY_10', 'VOLUME_STD_10', 'MOMENTUM_20', 'TURNOVER_20',\n",
       "       'PX_MOMENTUM_20', 'PX_REVERSAL_20', 'VOLATILITY_20', 'VOLUME_STD_20',\n",
       "       'MOMENTUM_30', 'TURNOVER_30', 'PX_MOMENTUM_30', 'PX_REVERSAL_30',\n",
       "       'VOLATILITY_30', 'VOLUME_STD_30', 'MOMENTUM_60', 'TURNOVER_60',\n",
       "       'PX_MOMENTUM_60', 'PX_REVERSAL_60', 'VOLATILITY_60', 'VOLUME_STD_60',\n",
       "       'MOMENTUM_120', 'TURNOVER_120', 'PX_MOMENTUM_120', 'PX_REVERSAL_120',\n",
       "       'VOLATILITY_120', 'VOLUME_STD_120', 'DELTA_20_CHANGE', 'Ticker'],\n",
       "      dtype='object')"
      ]
     },
     "execution_count": 20,
     "metadata": {},
     "output_type": "execute_result"
    }
   ],
   "execution_count": 20
  },
  {
   "metadata": {},
   "cell_type": "markdown",
   "source": "Drop NaNs",
   "id": "9039e16861a30871"
  },
  {
   "metadata": {
    "ExecuteTime": {
     "end_time": "2024-08-25T04:14:22.515998Z",
     "start_time": "2024-08-25T04:14:22.447222Z"
    }
   },
   "cell_type": "code",
   "source": [
    "for i in range(len(covlist_reindex)):\n",
    "    covlist_reindex[i] = covlist_reindex[i].dropna()\n",
    "    covlist_reindex[i] = covlist_reindex[i].reset_index(drop=False)"
   ],
   "id": "cc85e2c6ddcc3cae",
   "outputs": [],
   "execution_count": 21
  },
  {
   "metadata": {
    "ExecuteTime": {
     "end_time": "2024-08-25T04:15:07.017549Z",
     "start_time": "2024-08-25T04:15:06.981221Z"
    }
   },
   "cell_type": "code",
   "source": [
    "def rolling_window_save(train_window=252, test_window=60):\n",
    "    os.makedirs('train_data', exist_ok=True)\n",
    "    \n",
    "    for cov in covlist_reindex:\n",
    "        # Also removes labels \n",
    "        # cov.drop(['DELTA_20_CHANGE', 'PCT_CHANGE_20'], axis=1, inplace=True)\n",
    "        tdf = []\n",
    "        vdf = []\n",
    "        for start in range(0, len(cov) - train_window - test_window, train_window + test_window):\n",
    "            end_train = start + train_window\n",
    "            end_test = end_train + test_window\n",
    "            \n",
    "            train_df = cov.iloc[start:end_train]\n",
    "            test_df = cov.iloc[end_train:end_test]\n",
    "            \n",
    "            tdf.append(train_df)\n",
    "            vdf.append(test_df)\n",
    "    \n",
    "    return tdf, vdf\n",
    "\n",
    "tdf, vdf = rolling_window_save(252, 60)"
   ],
   "id": "b4880f2292fc3687",
   "outputs": [],
   "execution_count": 23
  },
  {
   "metadata": {},
   "cell_type": "markdown",
   "source": "save data",
   "id": "6f210af4c10b59df"
  },
  {
   "metadata": {
    "ExecuteTime": {
     "end_time": "2024-08-25T04:18:38.939508Z",
     "start_time": "2024-08-25T04:18:38.919499Z"
    }
   },
   "cell_type": "code",
   "source": "valid.columns",
   "id": "76f24e077b100807",
   "outputs": [
    {
     "data": {
      "text/plain": [
       "Index(['index', 'EARN_YLD', 'PX_TO_BOOK_RATIO', 'PX_TO_SALES_RATIO',\n",
       "       'RETURN_ON_ASSET', 'RETURN_COM_EQY', 'CUR_MKT_CAP',\n",
       "       'TRAIL_12M_NET_INC_GROWTH', 'OPER_INC_GROWTH', 'VWAP_STANDARD_DEV',\n",
       "       'PX_LAST', 'TURNOVER', 'VOLUME', 'PCT_CHANGE_20', 'VOL_RATIO_10_20',\n",
       "       'VOL_RATIO_20_40', 'VOL_RATIO_40_80', 'VOL_RATIO_80_120', 'PE_Ratio',\n",
       "       'PE_Band_25', 'PE_Band_50', 'PE_Band_75', 'MACD', 'MACD_Signal',\n",
       "       'MACD_Histogram', 'MOMENTUM_10', 'TURNOVER_10', 'PX_MOMENTUM_10',\n",
       "       'PX_REVERSAL_10', 'VOLATILITY_10', 'VOLUME_STD_10', 'MOMENTUM_20',\n",
       "       'TURNOVER_20', 'PX_MOMENTUM_20', 'PX_REVERSAL_20', 'VOLATILITY_20',\n",
       "       'VOLUME_STD_20', 'MOMENTUM_30', 'TURNOVER_30', 'PX_MOMENTUM_30',\n",
       "       'PX_REVERSAL_30', 'VOLATILITY_30', 'VOLUME_STD_30', 'MOMENTUM_60',\n",
       "       'TURNOVER_60', 'PX_MOMENTUM_60', 'PX_REVERSAL_60', 'VOLATILITY_60',\n",
       "       'VOLUME_STD_60', 'MOMENTUM_120', 'TURNOVER_120', 'PX_MOMENTUM_120',\n",
       "       'PX_REVERSAL_120', 'VOLATILITY_120', 'VOLUME_STD_120',\n",
       "       'DELTA_20_CHANGE', 'Ticker', 'DELTA_20_QUINTILES'],\n",
       "      dtype='object')"
      ]
     },
     "execution_count": 33,
     "metadata": {},
     "output_type": "execute_result"
    }
   ],
   "execution_count": 33
  },
  {
   "metadata": {
    "ExecuteTime": {
     "end_time": "2024-08-25T04:19:19.172870Z",
     "start_time": "2024-08-25T04:19:19.158975Z"
    }
   },
   "cell_type": "code",
   "source": "valid.columns",
   "id": "717fd61a172f4019",
   "outputs": [
    {
     "data": {
      "text/plain": [
       "Index(['index', 'EARN_YLD', 'PX_TO_BOOK_RATIO', 'PX_TO_SALES_RATIO',\n",
       "       'RETURN_ON_ASSET', 'RETURN_COM_EQY', 'CUR_MKT_CAP',\n",
       "       'TRAIL_12M_NET_INC_GROWTH', 'OPER_INC_GROWTH', 'VWAP_STANDARD_DEV',\n",
       "       'PX_LAST', 'TURNOVER', 'VOLUME', 'PCT_CHANGE_20', 'VOL_RATIO_10_20',\n",
       "       'VOL_RATIO_20_40', 'VOL_RATIO_40_80', 'VOL_RATIO_80_120', 'PE_Ratio',\n",
       "       'PE_Band_25', 'PE_Band_50', 'PE_Band_75', 'MACD', 'MACD_Signal',\n",
       "       'MACD_Histogram', 'MOMENTUM_10', 'TURNOVER_10', 'PX_MOMENTUM_10',\n",
       "       'PX_REVERSAL_10', 'VOLATILITY_10', 'VOLUME_STD_10', 'MOMENTUM_20',\n",
       "       'TURNOVER_20', 'PX_MOMENTUM_20', 'PX_REVERSAL_20', 'VOLATILITY_20',\n",
       "       'VOLUME_STD_20', 'MOMENTUM_30', 'TURNOVER_30', 'PX_MOMENTUM_30',\n",
       "       'PX_REVERSAL_30', 'VOLATILITY_30', 'VOLUME_STD_30', 'MOMENTUM_60',\n",
       "       'TURNOVER_60', 'PX_MOMENTUM_60', 'PX_REVERSAL_60', 'VOLATILITY_60',\n",
       "       'VOLUME_STD_60', 'MOMENTUM_120', 'TURNOVER_120', 'PX_MOMENTUM_120',\n",
       "       'PX_REVERSAL_120', 'VOLATILITY_120', 'VOLUME_STD_120',\n",
       "       'DELTA_20_CHANGE', 'Ticker', 'DELTA_20_QUINTILES'],\n",
       "      dtype='object')"
      ]
     },
     "execution_count": 34,
     "metadata": {},
     "output_type": "execute_result"
    }
   ],
   "execution_count": 34
  },
  {
   "metadata": {
    "ExecuteTime": {
     "end_time": "2024-08-25T04:20:30.429014Z",
     "start_time": "2024-08-25T04:20:30.408368Z"
    }
   },
   "cell_type": "code",
   "source": [
    "valid = pd.concat(vdf, axis=0)\n",
    "valid.index = valid['index']\n",
    "valid.drop('index', axis=1, inplace=True)"
   ],
   "id": "92155e4e953a6423",
   "outputs": [],
   "execution_count": 38
  },
  {
   "metadata": {
    "ExecuteTime": {
     "end_time": "2024-08-25T04:25:43.222467Z",
     "start_time": "2024-08-25T04:25:43.191235Z"
    }
   },
   "cell_type": "code",
   "source": "valid.loc[:, ['PCT_CHANGE_20', 'PX_LAST', 'Ticker']]",
   "id": "3e2141001e5528c0",
   "outputs": [
    {
     "data": {
      "text/plain": [
       "               PCT_CHANGE_20  PX_LAST Ticker\n",
       "index                                       \n",
       "2011-02-09-26     -13.852814   3980.0   PTBA\n",
       "2011-02-10-26     -17.872340   3860.0   PTBA\n",
       "2011-02-11-26     -16.916488   3880.0   PTBA\n",
       "2011-02-14-26     -13.973799   3940.0   PTBA\n",
       "2011-02-16-26     -15.869565   3870.0   PTBA\n",
       "...                      ...      ...    ...\n",
       "2024-02-23-26       2.334630   2630.0   PTBA\n",
       "2024-02-26-26       0.389105   2580.0   PTBA\n",
       "2024-02-27-26       0.000000   2590.0   PTBA\n",
       "2024-02-28-26       0.383142   2620.0   PTBA\n",
       "2024-02-29-26       0.000000   2560.0   PTBA\n",
       "\n",
       "[660 rows x 3 columns]"
      ],
      "text/html": [
       "<div>\n",
       "<style scoped>\n",
       "    .dataframe tbody tr th:only-of-type {\n",
       "        vertical-align: middle;\n",
       "    }\n",
       "\n",
       "    .dataframe tbody tr th {\n",
       "        vertical-align: top;\n",
       "    }\n",
       "\n",
       "    .dataframe thead th {\n",
       "        text-align: right;\n",
       "    }\n",
       "</style>\n",
       "<table border=\"1\" class=\"dataframe\">\n",
       "  <thead>\n",
       "    <tr style=\"text-align: right;\">\n",
       "      <th></th>\n",
       "      <th>PCT_CHANGE_20</th>\n",
       "      <th>PX_LAST</th>\n",
       "      <th>Ticker</th>\n",
       "    </tr>\n",
       "    <tr>\n",
       "      <th>index</th>\n",
       "      <th></th>\n",
       "      <th></th>\n",
       "      <th></th>\n",
       "    </tr>\n",
       "  </thead>\n",
       "  <tbody>\n",
       "    <tr>\n",
       "      <th>2011-02-09-26</th>\n",
       "      <td>-13.852814</td>\n",
       "      <td>3980.0</td>\n",
       "      <td>PTBA</td>\n",
       "    </tr>\n",
       "    <tr>\n",
       "      <th>2011-02-10-26</th>\n",
       "      <td>-17.872340</td>\n",
       "      <td>3860.0</td>\n",
       "      <td>PTBA</td>\n",
       "    </tr>\n",
       "    <tr>\n",
       "      <th>2011-02-11-26</th>\n",
       "      <td>-16.916488</td>\n",
       "      <td>3880.0</td>\n",
       "      <td>PTBA</td>\n",
       "    </tr>\n",
       "    <tr>\n",
       "      <th>2011-02-14-26</th>\n",
       "      <td>-13.973799</td>\n",
       "      <td>3940.0</td>\n",
       "      <td>PTBA</td>\n",
       "    </tr>\n",
       "    <tr>\n",
       "      <th>2011-02-16-26</th>\n",
       "      <td>-15.869565</td>\n",
       "      <td>3870.0</td>\n",
       "      <td>PTBA</td>\n",
       "    </tr>\n",
       "    <tr>\n",
       "      <th>...</th>\n",
       "      <td>...</td>\n",
       "      <td>...</td>\n",
       "      <td>...</td>\n",
       "    </tr>\n",
       "    <tr>\n",
       "      <th>2024-02-23-26</th>\n",
       "      <td>2.334630</td>\n",
       "      <td>2630.0</td>\n",
       "      <td>PTBA</td>\n",
       "    </tr>\n",
       "    <tr>\n",
       "      <th>2024-02-26-26</th>\n",
       "      <td>0.389105</td>\n",
       "      <td>2580.0</td>\n",
       "      <td>PTBA</td>\n",
       "    </tr>\n",
       "    <tr>\n",
       "      <th>2024-02-27-26</th>\n",
       "      <td>0.000000</td>\n",
       "      <td>2590.0</td>\n",
       "      <td>PTBA</td>\n",
       "    </tr>\n",
       "    <tr>\n",
       "      <th>2024-02-28-26</th>\n",
       "      <td>0.383142</td>\n",
       "      <td>2620.0</td>\n",
       "      <td>PTBA</td>\n",
       "    </tr>\n",
       "    <tr>\n",
       "      <th>2024-02-29-26</th>\n",
       "      <td>0.000000</td>\n",
       "      <td>2560.0</td>\n",
       "      <td>PTBA</td>\n",
       "    </tr>\n",
       "  </tbody>\n",
       "</table>\n",
       "<p>660 rows × 3 columns</p>\n",
       "</div>"
      ]
     },
     "execution_count": 40,
     "metadata": {},
     "output_type": "execute_result"
    }
   ],
   "execution_count": 40
  },
  {
   "metadata": {
    "ExecuteTime": {
     "end_time": "2024-08-25T03:45:50.306679Z",
     "start_time": "2024-08-25T03:45:50.178267Z"
    }
   },
   "cell_type": "code",
   "source": [
    "folder_name = 'covset0_pred'\n",
    "os.makedirs(folder_name, exist_ok=True)\n",
    "for i in range(len(tdf)):\n",
    "    # tdf[i].to_csv(f'{folder_name}/train_{i}.csv', index=False)\n",
    "    vdf[i].to_csv(f'{folder_name}/valid_{i}_pred.csv', index=False)"
   ],
   "id": "8df26f6307e27824",
   "outputs": [],
   "execution_count": 18
  },
  {
   "metadata": {},
   "cell_type": "code",
   "outputs": [],
   "execution_count": null,
   "source": "",
   "id": "5b3323bf2e762796"
  }
 ],
 "metadata": {
  "kernelspec": {
   "display_name": "Python 3",
   "language": "python",
   "name": "python3"
  },
  "language_info": {
   "codemirror_mode": {
    "name": "ipython",
    "version": 2
   },
   "file_extension": ".py",
   "mimetype": "text/x-python",
   "name": "python",
   "nbconvert_exporter": "python",
   "pygments_lexer": "ipython2",
   "version": "2.7.6"
  }
 },
 "nbformat": 4,
 "nbformat_minor": 5
}
