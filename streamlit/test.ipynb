{
 "cells": [
  {
   "cell_type": "code",
   "id": "initial_id",
   "metadata": {
    "collapsed": true,
    "ExecuteTime": {
     "end_time": "2024-08-30T06:50:51.889666Z",
     "start_time": "2024-08-30T06:50:51.832736Z"
    }
   },
   "source": [
    "from pathlib import Path\n",
    "import joblib\n",
    "import os\n",
    "\n",
    "print(\"Current working directory:\", os.getcwd())\n",
    "\n",
    "# Use Path(__file__) if it exists, otherwise fall back to Path.cwd()\n",
    "try:\n",
    "    # Use __file__ if it is defined\n",
    "    base_path = Path(__file__).resolve().parent.parent\n",
    "except NameError:\n",
    "    # Fallback for interactive environments\n",
    "    base_path = Path.cwd()\n",
    "\n",
    "# Define the path to the models directory relative to the base path\n",
    "models_path = base_path / 'random_forest' / 'models'\n",
    "\n",
    "# Load the models using the constructed paths\n",
    "model = joblib.load(models_path / 'yuge.joblib')\n",
    "valid_full = joblib.load(models_path / 'yuge_validfull.joblib')\n",
    "x_valid = joblib.load(models_path / 'yuge_xvalid.joblib')\n",
    "y_valid = joblib.load(models_path / 'yuge_yvalid.joblib')\n",
    "\n",
    "# Now you can continue with your Streamlit app logic"
   ],
   "outputs": [
    {
     "name": "stdout",
     "output_type": "stream",
     "text": [
      "Current working directory: /Users/gregruyoga/gmoneycodes/tradingstrats/streamlit\n"
     ]
    },
    {
     "ename": "FileNotFoundError",
     "evalue": "[Errno 2] No such file or directory: '/Users/gregruyoga/gmoneycodes/tradingstrats/streamlit/random_forest/models/yuge.joblib'",
     "output_type": "error",
     "traceback": [
      "\u001B[0;31m---------------------------------------------------------------------------\u001B[0m",
      "\u001B[0;31mFileNotFoundError\u001B[0m                         Traceback (most recent call last)",
      "Cell \u001B[0;32mIn[4], line 19\u001B[0m\n\u001B[1;32m     16\u001B[0m models_path \u001B[38;5;241m=\u001B[39m base_path \u001B[38;5;241m/\u001B[39m \u001B[38;5;124m'\u001B[39m\u001B[38;5;124mrandom_forest\u001B[39m\u001B[38;5;124m'\u001B[39m \u001B[38;5;241m/\u001B[39m \u001B[38;5;124m'\u001B[39m\u001B[38;5;124mmodels\u001B[39m\u001B[38;5;124m'\u001B[39m\n\u001B[1;32m     18\u001B[0m \u001B[38;5;66;03m# Load the models using the constructed paths\u001B[39;00m\n\u001B[0;32m---> 19\u001B[0m model \u001B[38;5;241m=\u001B[39m \u001B[43mjoblib\u001B[49m\u001B[38;5;241;43m.\u001B[39;49m\u001B[43mload\u001B[49m\u001B[43m(\u001B[49m\u001B[43mmodels_path\u001B[49m\u001B[43m \u001B[49m\u001B[38;5;241;43m/\u001B[39;49m\u001B[43m \u001B[49m\u001B[38;5;124;43m'\u001B[39;49m\u001B[38;5;124;43myuge.joblib\u001B[39;49m\u001B[38;5;124;43m'\u001B[39;49m\u001B[43m)\u001B[49m\n\u001B[1;32m     20\u001B[0m valid_full \u001B[38;5;241m=\u001B[39m joblib\u001B[38;5;241m.\u001B[39mload(models_path \u001B[38;5;241m/\u001B[39m \u001B[38;5;124m'\u001B[39m\u001B[38;5;124myuge_validfull.joblib\u001B[39m\u001B[38;5;124m'\u001B[39m)\n\u001B[1;32m     21\u001B[0m x_valid \u001B[38;5;241m=\u001B[39m joblib\u001B[38;5;241m.\u001B[39mload(models_path \u001B[38;5;241m/\u001B[39m \u001B[38;5;124m'\u001B[39m\u001B[38;5;124myuge_xvalid.joblib\u001B[39m\u001B[38;5;124m'\u001B[39m)\n",
      "File \u001B[0;32m/opt/homebrew/Caskroom/miniconda/base/envs/tradingstrats/lib/python3.8/site-packages/joblib/numpy_pickle.py:650\u001B[0m, in \u001B[0;36mload\u001B[0;34m(filename, mmap_mode)\u001B[0m\n\u001B[1;32m    648\u001B[0m         obj \u001B[38;5;241m=\u001B[39m _unpickle(fobj)\n\u001B[1;32m    649\u001B[0m \u001B[38;5;28;01melse\u001B[39;00m:\n\u001B[0;32m--> 650\u001B[0m     \u001B[38;5;28;01mwith\u001B[39;00m \u001B[38;5;28;43mopen\u001B[39;49m\u001B[43m(\u001B[49m\u001B[43mfilename\u001B[49m\u001B[43m,\u001B[49m\u001B[43m \u001B[49m\u001B[38;5;124;43m'\u001B[39;49m\u001B[38;5;124;43mrb\u001B[39;49m\u001B[38;5;124;43m'\u001B[39;49m\u001B[43m)\u001B[49m \u001B[38;5;28;01mas\u001B[39;00m f:\n\u001B[1;32m    651\u001B[0m         \u001B[38;5;28;01mwith\u001B[39;00m _read_fileobject(f, filename, mmap_mode) \u001B[38;5;28;01mas\u001B[39;00m fobj:\n\u001B[1;32m    652\u001B[0m             \u001B[38;5;28;01mif\u001B[39;00m \u001B[38;5;28misinstance\u001B[39m(fobj, \u001B[38;5;28mstr\u001B[39m):\n\u001B[1;32m    653\u001B[0m                 \u001B[38;5;66;03m# if the returned file object is a string, this means we\u001B[39;00m\n\u001B[1;32m    654\u001B[0m                 \u001B[38;5;66;03m# try to load a pickle file generated with an version of\u001B[39;00m\n\u001B[1;32m    655\u001B[0m                 \u001B[38;5;66;03m# Joblib so we load it with joblib compatibility function.\u001B[39;00m\n",
      "\u001B[0;31mFileNotFoundError\u001B[0m: [Errno 2] No such file or directory: '/Users/gregruyoga/gmoneycodes/tradingstrats/streamlit/random_forest/models/yuge.joblib'"
     ]
    }
   ],
   "execution_count": 4
  },
  {
   "metadata": {
    "ExecuteTime": {
     "end_time": "2024-08-30T06:50:31.787242Z",
     "start_time": "2024-08-30T06:50:31.736868Z"
    }
   },
   "cell_type": "code",
   "source": "base_path",
   "id": "555a2871418bfc5d",
   "outputs": [
    {
     "data": {
      "text/plain": [
       "PosixPath('/Users/gregruyoga/gmoneycodes/tradingstrats/streamlit')"
      ]
     },
     "execution_count": 3,
     "metadata": {},
     "output_type": "execute_result"
    }
   ],
   "execution_count": 3
  },
  {
   "metadata": {},
   "cell_type": "code",
   "source": "",
   "id": "7e071dee79a14f73",
   "outputs": [],
   "execution_count": null
  }
 ],
 "metadata": {
  "kernelspec": {
   "display_name": "Python 3",
   "language": "python",
   "name": "python3"
  },
  "language_info": {
   "codemirror_mode": {
    "name": "ipython",
    "version": 2
   },
   "file_extension": ".py",
   "mimetype": "text/x-python",
   "name": "python",
   "nbconvert_exporter": "python",
   "pygments_lexer": "ipython2",
   "version": "2.7.6"
  }
 },
 "nbformat": 4,
 "nbformat_minor": 5
}
